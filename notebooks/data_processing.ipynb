{
 "cells": [
  {
   "cell_type": "code",
   "execution_count": null,
   "metadata": {},
   "outputs": [],
   "source": [
    "# !pip install pyarrow"
   ]
  },
  {
   "cell_type": "code",
   "execution_count": 1,
   "metadata": {},
   "outputs": [],
   "source": [
    "import pandas as pd\n",
    "import sys\n",
    "sys.path.append('../src')"
   ]
  },
  {
   "cell_type": "code",
   "execution_count": 2,
   "metadata": {},
   "outputs": [
    {
     "data": {
      "text/plain": [
       "['/Users/work/Documents/quant/quant_ML/notebooks',\n",
       " '/Library/Developer/CommandLineTools/Library/Frameworks/Python3.framework/Versions/3.9/lib/python39.zip',\n",
       " '/Library/Developer/CommandLineTools/Library/Frameworks/Python3.framework/Versions/3.9/lib/python3.9',\n",
       " '/Library/Developer/CommandLineTools/Library/Frameworks/Python3.framework/Versions/3.9/lib/python3.9/lib-dynload',\n",
       " '',\n",
       " '/Users/work/Library/Python/3.9/lib/python/site-packages',\n",
       " '/Library/Developer/CommandLineTools/Library/Frameworks/Python3.framework/Versions/3.9/lib/python3.9/site-packages',\n",
       " '../src']"
      ]
     },
     "execution_count": 2,
     "metadata": {},
     "output_type": "execute_result"
    }
   ],
   "source": [
    "sys.path"
   ]
  },
  {
   "cell_type": "code",
   "execution_count": 8,
   "metadata": {},
   "outputs": [],
   "source": [
    "def cleaning_data(path):\n",
    "    df = pd.read_csv(path,\n",
    "                    header=None,\n",
    "                    names=['day','time','price','bid','ask','vol'])\n",
    "    df['date'] = pd.to_datetime(df['day'] + df['time'],format='%m/%d/%Y%H:%M:%S')\n",
    "    df['dollar_vol'] = df['price']*df['vol']\n",
    "    df = df.set_index('date')\n",
    "    df = df.drop(['day', 'time'],\n",
    "                    axis=1)\n",
    "    df = df.drop_duplicates()\n",
    "    return df\n",
    "# df = cleaning_data(\"../src/data/IVE_tickbidask.txt\")\n",
    "# df.to_parquet(\"../src/data/IVE_tickbidask.parquet\")"
   ]
  },
  {
   "cell_type": "code",
   "execution_count": 13,
   "metadata": {},
   "outputs": [
    {
     "data": {
      "text/html": [
       "<div>\n",
       "<style scoped>\n",
       "    .dataframe tbody tr th:only-of-type {\n",
       "        vertical-align: middle;\n",
       "    }\n",
       "\n",
       "    .dataframe tbody tr th {\n",
       "        vertical-align: top;\n",
       "    }\n",
       "\n",
       "    .dataframe thead th {\n",
       "        text-align: right;\n",
       "    }\n",
       "</style>\n",
       "<table border=\"1\" class=\"dataframe\">\n",
       "  <thead>\n",
       "    <tr style=\"text-align: right;\">\n",
       "      <th></th>\n",
       "      <th>price</th>\n",
       "      <th>bid</th>\n",
       "      <th>ask</th>\n",
       "      <th>vol</th>\n",
       "      <th>dollar_vol</th>\n",
       "    </tr>\n",
       "    <tr>\n",
       "      <th>date</th>\n",
       "      <th></th>\n",
       "      <th></th>\n",
       "      <th></th>\n",
       "      <th></th>\n",
       "      <th></th>\n",
       "    </tr>\n",
       "  </thead>\n",
       "  <tbody>\n",
       "    <tr>\n",
       "      <th>2009-09-28 09:30:00</th>\n",
       "      <td>50.79</td>\n",
       "      <td>50.70</td>\n",
       "      <td>50.79</td>\n",
       "      <td>100</td>\n",
       "      <td>5079.00</td>\n",
       "    </tr>\n",
       "    <tr>\n",
       "      <th>2009-09-28 09:30:00</th>\n",
       "      <td>50.71</td>\n",
       "      <td>50.70</td>\n",
       "      <td>50.79</td>\n",
       "      <td>638</td>\n",
       "      <td>32352.98</td>\n",
       "    </tr>\n",
       "    <tr>\n",
       "      <th>2009-09-28 09:31:32</th>\n",
       "      <td>50.75</td>\n",
       "      <td>50.75</td>\n",
       "      <td>50.76</td>\n",
       "      <td>100</td>\n",
       "      <td>5075.00</td>\n",
       "    </tr>\n",
       "    <tr>\n",
       "      <th>2009-09-28 09:31:33</th>\n",
       "      <td>50.75</td>\n",
       "      <td>50.72</td>\n",
       "      <td>50.75</td>\n",
       "      <td>100</td>\n",
       "      <td>5075.00</td>\n",
       "    </tr>\n",
       "    <tr>\n",
       "      <th>2009-09-28 09:31:50</th>\n",
       "      <td>50.75</td>\n",
       "      <td>50.73</td>\n",
       "      <td>50.76</td>\n",
       "      <td>300</td>\n",
       "      <td>15225.00</td>\n",
       "    </tr>\n",
       "  </tbody>\n",
       "</table>\n",
       "</div>"
      ],
      "text/plain": [
       "                     price    bid    ask  vol  dollar_vol\n",
       "date                                                     \n",
       "2009-09-28 09:30:00  50.79  50.70  50.79  100     5079.00\n",
       "2009-09-28 09:30:00  50.71  50.70  50.79  638    32352.98\n",
       "2009-09-28 09:31:32  50.75  50.75  50.76  100     5075.00\n",
       "2009-09-28 09:31:33  50.75  50.72  50.75  100     5075.00\n",
       "2009-09-28 09:31:50  50.75  50.73  50.76  300    15225.00"
      ]
     },
     "execution_count": 13,
     "metadata": {},
     "output_type": "execute_result"
    }
   ],
   "source": [
    "df.head()"
   ]
  },
  {
   "cell_type": "code",
   "execution_count": null,
   "metadata": {},
   "outputs": [],
   "source": [
    "#get API keys \n",
    "with open('/Users/work/Documents/quant/quant_ML/config.json') as f:\n",
    "    config = json.load(f)\n",
    "    apiPublicKey = config['public_key']\n",
    "    apiPrivateKey = config['private_key']\n",
    "api = krakenex.API()\n",
    "k = KrakenAPI(api)\n",
    "ohlc, last = k.get_ohlc_data(\"ETHEUR\")\n",
    "print(ohlc)\n"
   ]
  }
 ],
 "metadata": {
  "kernelspec": {
   "display_name": "Python 3",
   "language": "python",
   "name": "python3"
  },
  "language_info": {
   "codemirror_mode": {
    "name": "ipython",
    "version": 3
   },
   "file_extension": ".py",
   "mimetype": "text/x-python",
   "name": "python",
   "nbconvert_exporter": "python",
   "pygments_lexer": "ipython3",
   "version": "3.9.6"
  }
 },
 "nbformat": 4,
 "nbformat_minor": 2
}
